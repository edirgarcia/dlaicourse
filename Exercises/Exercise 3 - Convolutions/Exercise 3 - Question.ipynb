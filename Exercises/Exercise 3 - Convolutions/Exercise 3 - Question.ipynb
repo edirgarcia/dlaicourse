{
 "cells": [
  {
   "cell_type": "markdown",
   "metadata": {
    "colab_type": "text",
    "id": "iQjHqsmTAVLU"
   },
   "source": [
    "## Exercise 3\n",
    "In the videos you looked at how you would improve Fashion MNIST using Convolutions. For your exercise see if you can improve MNIST to 99.8% accuracy or more using only a single convolutional layer and a single MaxPooling 2D. You should stop training once the accuracy goes above this amount. It should happen in less than 20 epochs, so it's ok to hard code the number of epochs for training, but your training must end once it hits the above metric. If it doesn't, then you'll need to redesign your layers.\n",
    "\n",
    "I've started the code for you -- you need to finish it!\n",
    "\n",
    "When 99.8% accuracy has been hit, you should print out the string \"Reached 99.8% accuracy so cancelling training!\"\n"
   ]
  },
  {
   "cell_type": "code",
   "execution_count": 26,
   "metadata": {
    "colab": {},
    "colab_type": "code",
    "id": "sfQRyaJWAIdg"
   },
   "outputs": [
    {
     "name": "stdout",
     "output_type": "stream",
     "text": [
      "Epoch 1/15\n",
      "60000/60000 [==============================] - 62s 1ms/step - loss: 0.1416 - acc: 0.9573: 0s - loss: 0.1421 - acc: \n",
      "Epoch 2/15\n",
      "60000/60000 [==============================] - 64s 1ms/step - loss: 0.0496 - acc: 0.9850\n",
      "Epoch 3/15\n",
      "60000/60000 [==============================] - 61s 1ms/step - loss: 0.0313 - acc: 0.9899\n",
      "Epoch 4/15\n",
      "60000/60000 [==============================] - 59s 979us/step - loss: 0.0215 - acc: 0.9927\n",
      "Epoch 5/15\n",
      "60000/60000 [==============================] - 59s 981us/step - loss: 0.0130 - acc: 0.9962\n",
      "Epoch 6/15\n",
      "60000/60000 [==============================] - 59s 977us/step - loss: 0.0108 - acc: 0.99640s - loss: 0.010\n",
      "Epoch 7/15\n",
      "60000/60000 [==============================] - 67s 1ms/step - loss: 0.0065 - acc: 0.9977\n",
      "Epoch 8/15\n",
      "60000/60000 [==============================] - 66s 1ms/step - loss: 0.0068 - acc: 0.9976\n",
      "Epoch 9/15\n",
      "59968/60000 [============================>.] - ETA: 0s - loss: 0.0045 - acc: 0.9986\n",
      " 99.8% accuracy reached, stopping training\n",
      "60000/60000 [==============================] - 62s 1ms/step - loss: 0.0045 - acc: 0.9986\n"
     ]
    },
    {
     "data": {
      "text/plain": [
       "<tensorflow.python.keras.callbacks.History at 0x23186f24eb8>"
      ]
     },
     "execution_count": 26,
     "metadata": {},
     "output_type": "execute_result"
    }
   ],
   "source": [
    "\n",
    "import tensorflow as tf\n",
    "from tensorflow.keras.utils import to_categorical\n",
    "\n",
    "class myCallback(tf.keras.callbacks.Callback):\n",
    "    def on_epoch_end(self, epoch, logs={}):\n",
    "        if logs.get('acc') > .998:\n",
    "            print(\"\\n 99.8% accuracy reached, stopping training\")\n",
    "            self.model.stop_training = True\n",
    "\n",
    "mnist = tf.keras.datasets.mnist\n",
    "(training_images, training_labels), (test_images, test_labels) = mnist.load_data()\n",
    "\n",
    "training_images = training_images.reshape((60000,28,28,1))\n",
    "test_images = test_images.reshape((10000,28,28,1))\n",
    "training_images = training_images / 255\n",
    "test_images = test_images / 255\n",
    "\n",
    "#to expermiment using categorical_crossentopy isntead of sparse one\n",
    "training_labels = to_categorical(training_labels, num_classes=None)\n",
    "test_labels = to_categorical(test_labels, num_classes=None)\n",
    "\n",
    "model = tf.keras.models.Sequential([\n",
    "    tf.keras.layers.Conv2D(64, (3,3) ,input_shape=(28,28,1), activation='relu'),\n",
    "    tf.keras.layers.MaxPool2D(pool_size = (2,2)),\n",
    "    tf.keras.layers.Flatten(),\n",
    "    tf.keras.layers.Dense(128, activation ='relu'),\n",
    "    tf.keras.layers.Dense(10, activation='softmax')\n",
    "])\n",
    "\n",
    "callback = myCallback()\n",
    "\n",
    "#sparse categorical loss requires the target to be numbers, categorical requires vector of size m where m is number of classes\n",
    "#can convert using to_categorical, see above.\n",
    "model.compile(optimizer='adam', loss='categorical_crossentropy',metrics=['accuracy'])\n",
    "#model.compile(optimizer='adam', loss='sparse_categorical_crossentropy',metrics=['accuracy'])\n",
    "\n",
    "model.fit(training_images, training_labels, epochs=15, callbacks=[callback] )\n",
    "\n"
   ]
  },
  {
   "cell_type": "code",
   "execution_count": 17,
   "metadata": {},
   "outputs": [
    {
     "data": {
      "text/plain": [
       "array([5, 0, 4, ..., 5, 6, 8], dtype=uint8)"
      ]
     },
     "execution_count": 17,
     "metadata": {},
     "output_type": "execute_result"
    }
   ],
   "source": [
    "training_labels"
   ]
  },
  {
   "cell_type": "code",
   "execution_count": null,
   "metadata": {},
   "outputs": [],
   "source": []
  }
 ],
 "metadata": {
  "colab": {
   "collapsed_sections": [],
   "name": "Exercise 3 - Question.ipynb",
   "provenance": [],
   "version": "0.3.2"
  },
  "kernelspec": {
   "display_name": "Python 3",
   "language": "python",
   "name": "python3"
  },
  "language_info": {
   "codemirror_mode": {
    "name": "ipython",
    "version": 3
   },
   "file_extension": ".py",
   "mimetype": "text/x-python",
   "name": "python",
   "nbconvert_exporter": "python",
   "pygments_lexer": "ipython3",
   "version": "3.6.8"
  }
 },
 "nbformat": 4,
 "nbformat_minor": 1
}
